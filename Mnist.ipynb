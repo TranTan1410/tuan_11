{
  "cells": [
    {
      "cell_type": "markdown",
      "metadata": {
        "id": "view-in-github",
        "colab_type": "text"
      },
      "source": [
        "<a href=\"https://colab.research.google.com/github/TranTan1410/tuan_11/blob/main/Mnist.ipynb\" target=\"_parent\"><img src=\"https://colab.research.google.com/assets/colab-badge.svg\" alt=\"Open In Colab\"/></a>"
      ]
    },
    {
      "cell_type": "code",
      "execution_count": null,
      "metadata": {
        "id": "FvPmhXye8O9b",
        "colab": {
          "base_uri": "https://localhost:8080/"
        },
        "outputId": "806d2d8d-23fd-40ae-e299-7b9822724870"
      },
      "outputs": [
        {
          "output_type": "execute_result",
          "data": {
            "text/plain": [
              "<function matplotlib.pyplot.show>"
            ]
          },
          "metadata": {},
          "execution_count": 11
        },
        {
          "output_type": "display_data",
          "data": {
            "text/plain": [
              "<Figure size 432x288 with 1 Axes>"
            ],
            "image/png": "[encoded data removed]"
          },
          "metadata": {
            "needs_background": "light"
          }
        }
      ],
      "source": [
        "#import thư viện\n",
        "import numpy as np \n",
        "from keras.utils import np_utils\n",
        "from keras.datasets import mnist \n",
        "from keras.models import Sequential\n",
        "from keras.layers import Dense, Dropout \n",
        "from tensorflow.keras.optimizers import RMSprop \n",
        "(x_train, y_train),(x_test,y_test) = mnist.load_data()\n",
        "import matplotlib.pyplot as plt  \n",
        "plt.imshow(x_train[1])\n",
        "plt.show"
      ]
    },
    {
      "cell_type": "code",
      "execution_count": null,
      "metadata": {
        "colab": {
          "base_uri": "https://localhost:8080/"
        },
        "id": "GYlYTwLh8dNH",
        "outputId": "40dccfbe-1894-43cd-fc14-da59a3fceba7"
      },
      "outputs": [
        {
          "name": "stdout",
          "output_type": "stream",
          "text": [
            "Downloading data from https://storage.googleapis.com/tensorflow/tf-keras-datasets/mnist.npz\n",
            "11493376/11490434 [==============================] - 0s 0us/step\n",
            "11501568/11490434 [==============================] - 0s 0us/step\n"
          ]
        }
      ],
      "source": [
        "# chia tập dữ liệu thành 2 bộ train và test\n",
        "(x_train, y_train),(x_test,y_test) = mnist.load_data()"
      ]
    },
    {
      "cell_type": "code",
      "execution_count": null,
      "metadata": {
        "colab": {
          "base_uri": "https://localhost:8080/"
        },
        "id": "UFWUHwM08i1O",
        "outputId": "73986187-aaf1-405e-9085-834c7428c477"
      },
      "outputs": [
        {
          "name": "stdout",
          "output_type": "stream",
          "text": [
            "Kích thước x_train:  (60000, 28, 28)\n",
            "Kích thước y_train:  (60000,)\n",
            "Kích thước x_test:  (10000, 28, 28)\n",
            "Kích thước y_test:  (10000,)\n"
          ]
        }
      ],
      "source": [
        "# xem kích thược của tập dữ liệu\n",
        "print('Kích thước x_train: ', x_train.shape)\n",
        "print('Kích thước y_train: ', y_train.shape)\n",
        "print('Kích thước x_test: ', x_test.shape)\n",
        "print('Kích thước y_test: ', y_test.shape)"
      ]
    },
    {
      "cell_type": "code",
      "execution_count": null,
      "metadata": {
        "id": "xkt_zzc58s0f"
      },
      "outputs": [],
      "source": [
        "#chuyển chiều của x từ 3 chiều về 2 chiều\n",
        "x_train = x_train.reshape(60000,784)\n",
        "x_test = x_test.reshape(10000,784)\n",
        "# ép kiểu\n",
        "x_train = x_train.astype('float32')\n",
        "x_test = x_test.astype('float32')\n",
        "#chuẩn hóa dữ liệu\n",
        "x_train /=255\n",
        "x_test /=255\n",
        "#chuyển y từ 1 class thành 10 class\n",
        "y_train = np_utils.to_categorical(y_train,10)\n",
        "y_test = np_utils.to_categorical(y_test,10)"
      ]
    },
    {
      "cell_type": "code",
      "execution_count": null,
      "metadata": {
        "colab": {
          "base_uri": "https://localhost:8080/"
        },
        "id": "-A2Y4gK48vhp",
        "outputId": "be8476e4-a762-43fd-81e7-871bfcbfc310"
      },
      "outputs": [
        {
          "data": {
            "text/plain": [
              "(60000, 10)"
            ]
          },
          "execution_count": 5,
          "metadata": {},
          "output_type": "execute_result"
        }
      ],
      "source": [
        "y_train.shape"
      ]
    },
    {
      "cell_type": "code",
      "execution_count": null,
      "metadata": {
        "colab": {
          "base_uri": "https://localhost:8080/"
        },
        "id": "Tp_4mfRr8zpP",
        "outputId": "4b5152d4-de4d-417b-e30f-19a13611ba78"
      },
      "outputs": [
        {
          "data": {
            "text/plain": [
              "(10000, 10)"
            ]
          },
          "execution_count": 6,
          "metadata": {},
          "output_type": "execute_result"
        }
      ],
      "source": [
        "y_test.shape"
      ]
    },
    {
      "cell_type": "code",
      "execution_count": null,
      "metadata": {
        "colab": {
          "base_uri": "https://localhost:8080/"
        },
        "id": "zzZo4EcX81fA",
        "outputId": "fcf9e54c-0fa3-4648-f64a-1102bb2f4c09"
      },
      "outputs": [
        {
          "name": "stdout",
          "output_type": "stream",
          "text": [
            "Model: \"sequential\"\n",
            "_________________________________________________________________\n",
            " Layer (type)                Output Shape              Param #   \n",
            "=================================================================\n",
            " dense (Dense)               (None, 512)               401920    \n",
            "                                                                 \n",
            " dropout (Dropout)           (None, 512)               0         \n",
            "                                                                 \n",
            " dense_1 (Dense)             (None, 512)               262656    \n",
            "                                                                 \n",
            " dropout_1 (Dropout)         (None, 512)               0         \n",
            "                                                                 \n",
            " dense_2 (Dense)             (None, 10)                5130      \n",
            "                                                                 \n",
            "=================================================================\n",
            "Total params: 669,706\n",
            "Trainable params: 669,706\n",
            "Non-trainable params: 0\n",
            "_________________________________________________________________\n"
          ]
        }
      ],
      "source": [
        "#tạo mạng nơ-ron\n",
        "model = Sequential()\n",
        "model.add(Dense(512,activation='relu',input_shape=(784,)))\n",
        "model.add(Dropout(0.2))\n",
        "model.add(Dense(512,activation='relu'))\n",
        "model.add(Dropout(0.2))\n",
        "model.add(Dense(10,activation='softmax'))\n",
        "\n",
        "model.summary()"
      ]
    },
    {
      "cell_type": "code",
      "execution_count": null,
      "metadata": {
        "colab": {
          "base_uri": "https://localhost:8080/"
        },
        "id": "VzAPk53183xC",
        "outputId": "ff09adae-17e6-4bce-f0b3-d96a5c9dae3e"
      },
      "outputs": [
        {
          "output_type": "stream",
          "name": "stdout",
          "text": [
            "Epoch 1/500\n",
            "375/375 [==============================] - 8s 20ms/step - loss: 0.0084 - accuracy: 0.9985 - val_loss: 0.3403 - val_accuracy: 0.9836\n",
            "Epoch 2/500\n",
            "375/375 [==============================] - 7s 20ms/step - loss: 0.0092 - accuracy: 0.9987 - val_loss: 0.3328 - val_accuracy: 0.9822\n",
            "Epoch 3/500\n",
            "375/375 [==============================] - 7s 19ms/step - loss: 0.0081 - accuracy: 0.9986 - val_loss: 0.3488 - val_accuracy: 0.9821\n",
            "Epoch 4/500\n",
            "375/375 [==============================] - 8s 21ms/step - loss: 0.0065 - accuracy: 0.9989 - val_loss: 0.3740 - val_accuracy: 0.9818\n",
            "Epoch 5/500\n",
            "375/375 [==============================] - 7s 19ms/step - loss: 0.0050 - accuracy: 0.9990 - val_loss: 0.3495 - val_accuracy: 0.9830\n",
            "Epoch 6/500\n",
            "375/375 [==============================] - 7s 19ms/step - loss: 0.0050 - accuracy: 0.9991 - val_loss: 0.3727 - val_accuracy: 0.9830\n",
            "Epoch 7/500\n",
            "375/375 [==============================] - 8s 21ms/step - loss: 0.0052 - accuracy: 0.9991 - val_loss: 0.3660 - val_accuracy: 0.9830\n",
            "Epoch 8/500\n",
            "375/375 [==============================] - 7s 19ms/step - loss: 0.0068 - accuracy: 0.9989 - val_loss: 0.3731 - val_accuracy: 0.9833\n",
            "Epoch 9/500\n",
            "375/375 [==============================] - 7s 19ms/step - loss: 0.0058 - accuracy: 0.9990 - val_loss: 0.3662 - val_accuracy: 0.9832\n",
            "Epoch 10/500\n",
            "375/375 [==============================] - 7s 19ms/step - loss: 0.0055 - accuracy: 0.9993 - val_loss: 0.3941 - val_accuracy: 0.9818\n",
            "Epoch 11/500\n",
            "375/375 [==============================] - 7s 19ms/step - loss: 0.0066 - accuracy: 0.9988 - val_loss: 0.3517 - val_accuracy: 0.9805\n",
            "Epoch 12/500\n",
            "375/375 [==============================] - 7s 20ms/step - loss: 0.0058 - accuracy: 0.9988 - val_loss: 0.3432 - val_accuracy: 0.9822\n",
            "Epoch 13/500\n",
            "375/375 [==============================] - 7s 19ms/step - loss: 0.0046 - accuracy: 0.9990 - val_loss: 0.3805 - val_accuracy: 0.9836\n",
            "Epoch 14/500\n",
            "375/375 [==============================] - 7s 19ms/step - loss: 0.0052 - accuracy: 0.9990 - val_loss: 0.3448 - val_accuracy: 0.9838\n",
            "Epoch 15/500\n",
            "375/375 [==============================] - 7s 19ms/step - loss: 0.0074 - accuracy: 0.9990 - val_loss: 0.3624 - val_accuracy: 0.9821\n",
            "Epoch 16/500\n",
            "375/375 [==============================] - 7s 20ms/step - loss: 0.0037 - accuracy: 0.9992 - val_loss: 0.3998 - val_accuracy: 0.9808\n",
            "Epoch 17/500\n",
            "375/375 [==============================] - 7s 20ms/step - loss: 0.0062 - accuracy: 0.9989 - val_loss: 0.3789 - val_accuracy: 0.9808\n",
            "Epoch 18/500\n",
            "375/375 [==============================] - 8s 22ms/step - loss: 0.0069 - accuracy: 0.9989 - val_loss: 0.3785 - val_accuracy: 0.9818\n",
            "Epoch 19/500\n",
            "375/375 [==============================] - 7s 20ms/step - loss: 0.0074 - accuracy: 0.9989 - val_loss: 0.3643 - val_accuracy: 0.9836\n",
            "Epoch 20/500\n",
            "375/375 [==============================] - 7s 20ms/step - loss: 0.0072 - accuracy: 0.9988 - val_loss: 0.3397 - val_accuracy: 0.9838\n",
            "Epoch 21/500\n",
            "375/375 [==============================] - 7s 19ms/step - loss: 0.0069 - accuracy: 0.9988 - val_loss: 0.3979 - val_accuracy: 0.9810\n",
            "Epoch 22/500\n",
            "375/375 [==============================] - 7s 19ms/step - loss: 0.0083 - accuracy: 0.9987 - val_loss: 0.4004 - val_accuracy: 0.9833\n",
            "Epoch 23/500\n",
            "375/375 [==============================] - 7s 20ms/step - loss: 0.0076 - accuracy: 0.9988 - val_loss: 0.3630 - val_accuracy: 0.9833\n",
            "Epoch 24/500\n",
            "375/375 [==============================] - 7s 20ms/step - loss: 0.0083 - accuracy: 0.9986 - val_loss: 0.3806 - val_accuracy: 0.9822\n",
            "Epoch 25/500\n",
            "375/375 [==============================] - 7s 20ms/step - loss: 0.0060 - accuracy: 0.9991 - val_loss: 0.4132 - val_accuracy: 0.9815\n",
            "Epoch 26/500\n",
            "375/375 [==============================] - 7s 20ms/step - loss: 0.0046 - accuracy: 0.9991 - val_loss: 0.3608 - val_accuracy: 0.9827\n",
            "Epoch 27/500\n",
            "375/375 [==============================] - 7s 20ms/step - loss: 0.0075 - accuracy: 0.9990 - val_loss: 0.3547 - val_accuracy: 0.9832\n",
            "Epoch 28/500\n",
            "375/375 [==============================] - 7s 20ms/step - loss: 0.0069 - accuracy: 0.9989 - val_loss: 0.3610 - val_accuracy: 0.9833\n",
            "Epoch 29/500\n",
            "375/375 [==============================] - 7s 20ms/step - loss: 0.0081 - accuracy: 0.9988 - val_loss: 0.3855 - val_accuracy: 0.9820\n",
            "Epoch 30/500\n",
            "375/375 [==============================] - 7s 20ms/step - loss: 0.0050 - accuracy: 0.9990 - val_loss: 0.4093 - val_accuracy: 0.9822\n",
            "Epoch 31/500\n",
            "375/375 [==============================] - 7s 20ms/step - loss: 0.0091 - accuracy: 0.9988 - val_loss: 0.4034 - val_accuracy: 0.9822\n",
            "Epoch 32/500\n",
            "375/375 [==============================] - 7s 20ms/step - loss: 0.0058 - accuracy: 0.9991 - val_loss: 0.3977 - val_accuracy: 0.9833\n",
            "Epoch 33/500\n",
            "375/375 [==============================] - 7s 20ms/step - loss: 0.0050 - accuracy: 0.9991 - val_loss: 0.4205 - val_accuracy: 0.9826\n",
            "Epoch 34/500\n",
            "375/375 [==============================] - 7s 20ms/step - loss: 0.0075 - accuracy: 0.9990 - val_loss: 0.4251 - val_accuracy: 0.9824\n",
            "Epoch 35/500\n",
            "375/375 [==============================] - 7s 20ms/step - loss: 0.0045 - accuracy: 0.9992 - val_loss: 0.4190 - val_accuracy: 0.9832\n",
            "Epoch 36/500\n",
            "375/375 [==============================] - 7s 20ms/step - loss: 0.0106 - accuracy: 0.9986 - val_loss: 0.3809 - val_accuracy: 0.9822\n",
            "Epoch 37/500\n",
            "375/375 [==============================] - 7s 20ms/step - loss: 0.0052 - accuracy: 0.9989 - val_loss: 0.4549 - val_accuracy: 0.9812\n",
            "Epoch 38/500\n",
            "375/375 [==============================] - 7s 20ms/step - loss: 0.0075 - accuracy: 0.9989 - val_loss: 0.3669 - val_accuracy: 0.9850\n",
            "Epoch 39/500\n",
            "375/375 [==============================] - 7s 20ms/step - loss: 0.0070 - accuracy: 0.9992 - val_loss: 0.4077 - val_accuracy: 0.9831\n",
            "Epoch 40/500\n",
            "375/375 [==============================] - 7s 20ms/step - loss: 0.0078 - accuracy: 0.9991 - val_loss: 0.3754 - val_accuracy: 0.9818\n",
            "Epoch 41/500\n",
            "375/375 [==============================] - 7s 20ms/step - loss: 0.0044 - accuracy: 0.9991 - val_loss: 0.3927 - val_accuracy: 0.9830\n",
            "Epoch 42/500\n",
            "375/375 [==============================] - 7s 20ms/step - loss: 0.0071 - accuracy: 0.9988 - val_loss: 0.3941 - val_accuracy: 0.9833\n",
            "Epoch 43/500\n",
            "375/375 [==============================] - 7s 20ms/step - loss: 0.0072 - accuracy: 0.9989 - val_loss: 0.3698 - val_accuracy: 0.9825\n",
            "Epoch 44/500\n",
            "375/375 [==============================] - 7s 20ms/step - loss: 0.0064 - accuracy: 0.9989 - val_loss: 0.3649 - val_accuracy: 0.9828\n",
            "Epoch 45/500\n",
            "375/375 [==============================] - 11s 29ms/step - loss: 0.0046 - accuracy: 0.9993 - val_loss: 0.4083 - val_accuracy: 0.9825\n",
            "Epoch 46/500\n",
            "375/375 [==============================] - 10s 26ms/step - loss: 0.0071 - accuracy: 0.9990 - val_loss: 0.3948 - val_accuracy: 0.9830\n",
            "Epoch 47/500\n",
            "375/375 [==============================] - 9s 24ms/step - loss: 0.0075 - accuracy: 0.9990 - val_loss: 0.3673 - val_accuracy: 0.9822\n",
            "Epoch 48/500\n",
            "375/375 [==============================] - 12s 31ms/step - loss: 0.0078 - accuracy: 0.9991 - val_loss: 0.3526 - val_accuracy: 0.9840\n",
            "Epoch 49/500\n",
            "375/375 [==============================] - 13s 35ms/step - loss: 0.0060 - accuracy: 0.9989 - val_loss: 0.4138 - val_accuracy: 0.9831\n",
            "Epoch 50/500\n",
            "375/375 [==============================] - 8s 22ms/step - loss: 0.0069 - accuracy: 0.9991 - val_loss: 0.4218 - val_accuracy: 0.9824\n",
            "Epoch 51/500\n",
            "375/375 [==============================] - 7s 20ms/step - loss: 0.0068 - accuracy: 0.9991 - val_loss: 0.4114 - val_accuracy: 0.9829\n",
            "Epoch 52/500\n",
            "375/375 [==============================] - 7s 20ms/step - loss: 0.0045 - accuracy: 0.9993 - val_loss: 0.3903 - val_accuracy: 0.9850\n",
            "Epoch 53/500\n",
            "375/375 [==============================] - 8s 20ms/step - loss: 0.0068 - accuracy: 0.9992 - val_loss: 0.3946 - val_accuracy: 0.9835\n",
            "Epoch 54/500\n",
            "375/375 [==============================] - 7s 20ms/step - loss: 0.0058 - accuracy: 0.9992 - val_loss: 0.4176 - val_accuracy: 0.9833\n",
            "Epoch 55/500\n",
            "375/375 [==============================] - 7s 20ms/step - loss: 0.0045 - accuracy: 0.9992 - val_loss: 0.4306 - val_accuracy: 0.9829\n",
            "Epoch 56/500\n",
            "375/375 [==============================] - 7s 20ms/step - loss: 0.0047 - accuracy: 0.9992 - val_loss: 0.4313 - val_accuracy: 0.9833\n",
            "Epoch 57/500\n",
            "375/375 [==============================] - 8s 22ms/step - loss: 0.0081 - accuracy: 0.9992 - val_loss: 0.4191 - val_accuracy: 0.9836\n",
            "Epoch 58/500\n",
            "375/375 [==============================] - 7s 20ms/step - loss: 0.0056 - accuracy: 0.9992 - val_loss: 0.4454 - val_accuracy: 0.9827\n",
            "Epoch 59/500\n",
            "375/375 [==============================] - 7s 20ms/step - loss: 0.0066 - accuracy: 0.9990 - val_loss: 0.4187 - val_accuracy: 0.9833\n",
            "Epoch 60/500\n",
            "375/375 [==============================] - 7s 20ms/step - loss: 0.0052 - accuracy: 0.9992 - val_loss: 0.4298 - val_accuracy: 0.9830\n",
            "Epoch 61/500\n",
            "375/375 [==============================] - 8s 21ms/step - loss: 0.0047 - accuracy: 0.9993 - val_loss: 0.4474 - val_accuracy: 0.9829\n",
            "Epoch 62/500\n",
            "375/375 [==============================] - 7s 20ms/step - loss: 0.0084 - accuracy: 0.9990 - val_loss: 0.4079 - val_accuracy: 0.9839\n",
            "Epoch 63/500\n",
            "375/375 [==============================] - 7s 20ms/step - loss: 0.0087 - accuracy: 0.9988 - val_loss: 0.4027 - val_accuracy: 0.9831\n",
            "Epoch 64/500\n",
            "375/375 [==============================] - 7s 20ms/step - loss: 0.0082 - accuracy: 0.9989 - val_loss: 0.3948 - val_accuracy: 0.9832\n",
            "Epoch 65/500\n",
            "375/375 [==============================] - 8s 20ms/step - loss: 0.0074 - accuracy: 0.9991 - val_loss: 0.4466 - val_accuracy: 0.9833\n",
            "Epoch 66/500\n",
            "375/375 [==============================] - 7s 20ms/step - loss: 0.0085 - accuracy: 0.9986 - val_loss: 0.4085 - val_accuracy: 0.9831\n",
            "Epoch 67/500\n",
            "375/375 [==============================] - 8s 22ms/step - loss: 0.0069 - accuracy: 0.9992 - val_loss: 0.3958 - val_accuracy: 0.9826\n",
            "Epoch 68/500\n",
            "375/375 [==============================] - 7s 20ms/step - loss: 0.0064 - accuracy: 0.9993 - val_loss: 0.3937 - val_accuracy: 0.9843\n",
            "Epoch 69/500\n",
            "375/375 [==============================] - 7s 20ms/step - loss: 0.0070 - accuracy: 0.9991 - val_loss: 0.3828 - val_accuracy: 0.9846\n",
            "Epoch 70/500\n",
            "375/375 [==============================] - 8s 20ms/step - loss: 0.0064 - accuracy: 0.9991 - val_loss: 0.4132 - val_accuracy: 0.9824\n",
            "Epoch 71/500\n",
            "375/375 [==============================] - 7s 20ms/step - loss: 0.0061 - accuracy: 0.9991 - val_loss: 0.4236 - val_accuracy: 0.9833\n",
            "Epoch 72/500\n",
            "375/375 [==============================] - 7s 20ms/step - loss: 0.0049 - accuracy: 0.9991 - val_loss: 0.4133 - val_accuracy: 0.9838\n",
            "Epoch 73/500\n",
            "375/375 [==============================] - 7s 20ms/step - loss: 0.0062 - accuracy: 0.9991 - val_loss: 0.4060 - val_accuracy: 0.9838\n",
            "Epoch 74/500\n",
            "375/375 [==============================] - 7s 20ms/step - loss: 0.0037 - accuracy: 0.9994 - val_loss: 0.4272 - val_accuracy: 0.9833\n",
            "Epoch 75/500\n",
            "375/375 [==============================] - 7s 19ms/step - loss: 0.0071 - accuracy: 0.9991 - val_loss: 0.4271 - val_accuracy: 0.9824\n",
            "Epoch 76/500\n",
            "375/375 [==============================] - 7s 20ms/step - loss: 0.0068 - accuracy: 0.9991 - val_loss: 0.4132 - val_accuracy: 0.9833\n",
            "Epoch 77/500\n",
            "375/375 [==============================] - 7s 20ms/step - loss: 0.0028 - accuracy: 0.9994 - val_loss: 0.4329 - val_accuracy: 0.9839\n",
            "Epoch 78/500\n",
            "375/375 [==============================] - 7s 20ms/step - loss: 0.0055 - accuracy: 0.9991 - val_loss: 0.4289 - val_accuracy: 0.9837\n",
            "Epoch 79/500\n",
            "375/375 [==============================] - 7s 20ms/step - loss: 0.0090 - accuracy: 0.9989 - val_loss: 0.4179 - val_accuracy: 0.9848\n",
            "Epoch 80/500\n",
            "375/375 [==============================] - 7s 20ms/step - loss: 0.0054 - accuracy: 0.9992 - val_loss: 0.4495 - val_accuracy: 0.9828\n",
            "Epoch 81/500\n",
            "375/375 [==============================] - 7s 20ms/step - loss: 0.0061 - accuracy: 0.9991 - val_loss: 0.4446 - val_accuracy: 0.9843\n",
            "Epoch 82/500\n",
            "375/375 [==============================] - 7s 20ms/step - loss: 0.0064 - accuracy: 0.9990 - val_loss: 0.4090 - val_accuracy: 0.9847\n"
          ]
        }
      ],
      "source": [
        "#chạy model với số lần học là 500 và độ kiên nhẫn là 100\n",
        "model.compile(loss='categorical_crossentropy',optimizer=RMSprop(), metrics=['accuracy'])\n",
        "model.compile(loss='categorical_crossentropy',optimizer=RMSprop(), metrics=['accuracy'])\n",
        "from keras.callbacks import EarlyStopping\n",
        "history = model.fit(x_train,y_train,batch_size=128,epochs=500,verbose=1,\n",
        "                    validation_split=0.2,callbacks=[EarlyStopping(monitor='val_loss',patience=80)])"
      ]
    },
    {
      "cell_type": "code",
      "execution_count": null,
      "metadata": {
        "id": "rcjbjaE29B76"
      },
      "outputs": [],
      "source": [
        "#đánh giá chất lượng của mô hình và vẽ lại\n",
        "score = model.evaluate(x_test,y_test,verbose=0)\n",
        "print('Sai số kiểm tra là: ',score[0])\n",
        "print('Độ chính xác kiểm tra là: ',score[1])\n",
        "#vẽ đồ thị\n",
        "plt.plot(history.history['accuracy'])\n",
        "plt.plot(history.history['val_accuracy'])\n",
        "plt.title('model accuracy')\n",
        "plt.ylabel('accuracy')\n",
        "plt.xlabel('epochs')\n",
        "plt.legend(['train','Validation'])\n",
        "plt.show()"
      ]
    },
    {
      "cell_type": "code",
      "execution_count": null,
      "metadata": {
        "id": "JWyj2nbx9IDx"
      },
      "outputs": [],
      "source": [
        ""
      ]
    }
  ],
  "metadata": {
    "colab": {
      "collapsed_sections": [],
      "name": "Mnist.ipynb",
      "provenance": [],
      "authorship_tag": "ABX9TyOVwznwxH8ID/bl8fX7ir5P",
      "include_colab_link": true
    },
    "kernelspec": {
      "display_name": "Python 3",
      "name": "python3"
    },
    "language_info": {
      "name": "python"
    }
  },
  "nbformat": 4,
  "nbformat_minor": 0
}