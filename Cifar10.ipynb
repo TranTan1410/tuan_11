{
  "cells": [
    {
      "cell_type": "markdown",
      "metadata": {
        "id": "view-in-github",
        "colab_type": "text"
      },
      "source": [
        "<a href=\"https://colab.research.google.com/github/TranTan1410/tuan_11/blob/main/Cifar10.ipynb\" target=\"_parent\"><img src=\"https://colab.research.google.com/assets/colab-badge.svg\" alt=\"Open In Colab\"/></a>"
      ]
    },
    {
      "cell_type": "code",
      "execution_count": null,
      "metadata": {
        "id": "kNrfh9h0-15b"
      },
      "outputs": [],
      "source": [
        "#import thư viện\n",
        "import numpy as np #thư viện xử lý ma trận\n",
        "from keras.utils import np_utils # thư viện xử lý chuyển class\n",
        "from keras.datasets import cifar10 # gọi tập dataset động vật, máy bay \n",
        "from keras.models import Sequential # hàm chạy mô hình\n",
        "from keras.layers import Dense, Dropout # tạo mạng nơ ron\n",
        "from tensorflow.keras.optimizers import RMSprop \n",
        "import matplotlib.pyplot as plt  # thư viện dùng để vẽ\n",
        "from keras.backend import dropout"
      ]
    },
    {
      "cell_type": "code",
      "execution_count": null,
      "metadata": {
        "colab": {
          "base_uri": "https://localhost:8080/"
        },
        "id": "Orn3xFRD-3g_",
        "outputId": "7f59d030-44ee-4116-c38d-0a9e4589d010"
      },
      "outputs": [
        {
          "output_type": "stream",
          "name": "stdout",
          "text": [
            "Downloading data from https://www.cs.toronto.edu/~kriz/cifar-10-python.tar.gz\n",
            "170500096/170498071 [==============================] - 6s 0us/step\n",
            "170508288/170498071 [==============================] - 6s 0us/step\n"
          ]
        }
      ],
      "source": [
        "# chia tập dữ liệu thành 2 bộ train và test\n",
        "(x_train, y_train),(x_test,y_test) = cifar10.load_data()"
      ]
    },
    {
      "cell_type": "code",
      "execution_count": null,
      "metadata": {
        "colab": {
          "base_uri": "https://localhost:8080/"
        },
        "id": "GFz7AoeU-6MA",
        "outputId": "d91e629d-bf1e-4f56-a5b9-076149e691e7"
      },
      "outputs": [
        {
          "output_type": "stream",
          "name": "stdout",
          "text": [
            "Kích thước x_train:  (50000, 32, 32, 3)\n",
            "Kích thước y_train:  (50000, 1)\n",
            "Kích thước x_test:  (10000, 32, 32, 3)\n",
            "Kích thước y_test:  (10000, 1)\n"
          ]
        }
      ],
      "source": [
        "# xem kích thược của tập dữ liệu\n",
        "print('Kích thước x_train: ', x_train.shape)\n",
        "print('Kích thước y_train: ', y_train.shape)\n",
        "print('Kích thước x_test: ', x_test.shape)\n",
        "print('Kích thước y_test: ', y_test.shape)"
      ]
    },
    {
      "cell_type": "code",
      "execution_count": null,
      "metadata": {
        "id": "WiFqnrG3-8pc"
      },
      "outputs": [],
      "source": [
        "#chuyển chiều của x từ 3 chiều về 2 chiều VÌ cifar10 ở đầu vào có 4 chiều để chuyển về\n",
        "# 2 chiều bằng cách 32*32*3=3072\n",
        "x_train = x_train.reshape(50000,3072)\n",
        "x_test = x_test.reshape(10000,3072)\n",
        "# ép kiểu\n",
        "x_train = x_train.astype('float32')\n",
        "x_test = x_test.astype('float32')\n",
        "#chuẩn hóa dữ liệu\n",
        "x_train /=255\n",
        "x_test /=255\n",
        "#chuyển y từ 1 class thành 10 class\n",
        "y_train = np_utils.to_categorical(y_train,10)\n",
        "y_test = np_utils.to_categorical(y_test,10)"
      ]
    },
    {
      "cell_type": "code",
      "execution_count": null,
      "metadata": {
        "colab": {
          "base_uri": "https://localhost:8080/"
        },
        "id": "yJeykdpd_AIU",
        "outputId": "abb85d52-0a8e-4432-a87d-f4d5a08fd17c"
      },
      "outputs": [
        {
          "output_type": "stream",
          "name": "stdout",
          "text": [
            "Model: \"sequential\"\n",
            "_________________________________________________________________\n",
            " Layer (type)                Output Shape              Param #   \n",
            "=================================================================\n",
            " dense (Dense)               (None, 512)               1573376   \n",
            "                                                                 \n",
            " dropout (Dropout)           (None, 512)               0         \n",
            "                                                                 \n",
            " dense_1 (Dense)             (None, 512)               262656    \n",
            "                                                                 \n",
            " dropout_1 (Dropout)         (None, 512)               0         \n",
            "                                                                 \n",
            " dense_2 (Dense)             (None, 10)                5130      \n",
            "                                                                 \n",
            "=================================================================\n",
            "Total params: 1,841,162\n",
            "Trainable params: 1,841,162\n",
            "Non-trainable params: 0\n",
            "_________________________________________________________________\n"
          ]
        }
      ],
      "source": [
        "#tạo mạng nơ-ron\n",
        "model = Sequential()\n",
        "model.add(Dense(512,activation='relu',input_shape=(3072,)))\n",
        "model.add(Dropout(0.2))\n",
        "model.add(Dense(512,activation='relu'))\n",
        "model.add(Dropout(0.2))\n",
        "model.add(Dense(10,activation='softmax'))\n",
        "\n",
        "model.summary()"
      ]
    },
    {
      "cell_type": "code",
      "execution_count": null,
      "metadata": {
        "colab": {
          "base_uri": "https://localhost:8080/"
        },
        "id": "bDEArc1D_Cnl",
        "outputId": "8edfe06f-1244-4077-d52a-a45db69c0722"
      },
      "outputs": [
        {
          "output_type": "stream",
          "name": "stdout",
          "text": [
            "Epoch 1/500\n",
            "313/313 [==============================] - 9s 27ms/step - loss: 1.4125 - accuracy: 0.5031 - val_loss: 1.5262 - val_accuracy: 0.4707\n",
            "Epoch 2/500\n",
            "313/313 [==============================] - 8s 26ms/step - loss: 1.4010 - accuracy: 0.5045 - val_loss: 1.5283 - val_accuracy: 0.4746\n",
            "Epoch 3/500\n",
            "313/313 [==============================] - 8s 26ms/step - loss: 1.3881 - accuracy: 0.5087 - val_loss: 1.4909 - val_accuracy: 0.4909\n",
            "Epoch 4/500\n",
            "313/313 [==============================] - 8s 27ms/step - loss: 1.3894 - accuracy: 0.5074 - val_loss: 1.5349 - val_accuracy: 0.4648\n",
            "Epoch 5/500\n",
            "313/313 [==============================] - 9s 28ms/step - loss: 1.3846 - accuracy: 0.5103 - val_loss: 1.5686 - val_accuracy: 0.4652\n",
            "Epoch 6/500\n",
            "313/313 [==============================] - 8s 26ms/step - loss: 1.3907 - accuracy: 0.5078 - val_loss: 1.5917 - val_accuracy: 0.4801\n",
            "Epoch 7/500\n",
            "313/313 [==============================] - 8s 27ms/step - loss: 1.3839 - accuracy: 0.5090 - val_loss: 1.5547 - val_accuracy: 0.4629\n",
            "Epoch 8/500\n",
            "313/313 [==============================] - 8s 26ms/step - loss: 1.3727 - accuracy: 0.5152 - val_loss: 1.5641 - val_accuracy: 0.4650\n",
            "Epoch 9/500\n",
            "313/313 [==============================] - 8s 26ms/step - loss: 1.3800 - accuracy: 0.5096 - val_loss: 1.5253 - val_accuracy: 0.4748\n",
            "Epoch 10/500\n",
            "313/313 [==============================] - 8s 26ms/step - loss: 1.3790 - accuracy: 0.5125 - val_loss: 1.5079 - val_accuracy: 0.4812\n",
            "Epoch 11/500\n",
            "313/313 [==============================] - 8s 26ms/step - loss: 1.3742 - accuracy: 0.5129 - val_loss: 1.5313 - val_accuracy: 0.4801\n",
            "Epoch 12/500\n",
            "313/313 [==============================] - 8s 26ms/step - loss: 1.3774 - accuracy: 0.5135 - val_loss: 1.5050 - val_accuracy: 0.4839\n",
            "Epoch 13/500\n",
            "313/313 [==============================] - 8s 27ms/step - loss: 1.3789 - accuracy: 0.5142 - val_loss: 1.5121 - val_accuracy: 0.4800\n",
            "Epoch 14/500\n",
            "313/313 [==============================] - 8s 27ms/step - loss: 1.3763 - accuracy: 0.5126 - val_loss: 1.5617 - val_accuracy: 0.4648\n",
            "Epoch 15/500\n",
            "313/313 [==============================] - 8s 27ms/step - loss: 1.3713 - accuracy: 0.5159 - val_loss: 1.6004 - val_accuracy: 0.4483\n",
            "Epoch 16/500\n",
            "313/313 [==============================] - 8s 26ms/step - loss: 1.3765 - accuracy: 0.5156 - val_loss: 1.5275 - val_accuracy: 0.4650\n",
            "Epoch 17/500\n",
            "313/313 [==============================] - 8s 27ms/step - loss: 1.3666 - accuracy: 0.5182 - val_loss: 1.6400 - val_accuracy: 0.4428\n",
            "Epoch 18/500\n",
            "313/313 [==============================] - 9s 28ms/step - loss: 1.3698 - accuracy: 0.5180 - val_loss: 1.5059 - val_accuracy: 0.4870\n",
            "Epoch 19/500\n",
            "313/313 [==============================] - 8s 26ms/step - loss: 1.3671 - accuracy: 0.5191 - val_loss: 1.6285 - val_accuracy: 0.4490\n",
            "Epoch 20/500\n",
            "313/313 [==============================] - 8s 26ms/step - loss: 1.3731 - accuracy: 0.5133 - val_loss: 1.7026 - val_accuracy: 0.4646\n",
            "Epoch 21/500\n",
            "313/313 [==============================] - 8s 26ms/step - loss: 1.3699 - accuracy: 0.5156 - val_loss: 1.6265 - val_accuracy: 0.4563\n",
            "Epoch 22/500\n",
            "313/313 [==============================] - 8s 26ms/step - loss: 1.3604 - accuracy: 0.5199 - val_loss: 1.6284 - val_accuracy: 0.4384\n",
            "Epoch 23/500\n",
            "313/313 [==============================] - 8s 26ms/step - loss: 1.3587 - accuracy: 0.5207 - val_loss: 1.6005 - val_accuracy: 0.4467\n",
            "Epoch 24/500\n",
            "313/313 [==============================] - 8s 26ms/step - loss: 1.3597 - accuracy: 0.5224 - val_loss: 1.5825 - val_accuracy: 0.4635\n",
            "Epoch 25/500\n",
            "313/313 [==============================] - 8s 27ms/step - loss: 1.3677 - accuracy: 0.5202 - val_loss: 1.6133 - val_accuracy: 0.4794\n",
            "Epoch 26/500\n",
            "313/313 [==============================] - 8s 27ms/step - loss: 1.3567 - accuracy: 0.5240 - val_loss: 1.5451 - val_accuracy: 0.4758\n",
            "Epoch 27/500\n",
            "313/313 [==============================] - 8s 26ms/step - loss: 1.3549 - accuracy: 0.5244 - val_loss: 1.5207 - val_accuracy: 0.4870\n",
            "Epoch 28/500\n",
            "313/313 [==============================] - 8s 27ms/step - loss: 1.3538 - accuracy: 0.5197 - val_loss: 1.6124 - val_accuracy: 0.4607\n",
            "Epoch 29/500\n",
            "313/313 [==============================] - 8s 27ms/step - loss: 1.3655 - accuracy: 0.5191 - val_loss: 1.6154 - val_accuracy: 0.4594\n",
            "Epoch 30/500\n",
            "313/313 [==============================] - 8s 27ms/step - loss: 1.3591 - accuracy: 0.5228 - val_loss: 1.6189 - val_accuracy: 0.4770\n",
            "Epoch 31/500\n",
            "313/313 [==============================] - 8s 26ms/step - loss: 1.3599 - accuracy: 0.5228 - val_loss: 1.6179 - val_accuracy: 0.4423\n",
            "Epoch 32/500\n",
            "313/313 [==============================] - 8s 27ms/step - loss: 1.3592 - accuracy: 0.5233 - val_loss: 1.5905 - val_accuracy: 0.4686\n",
            "Epoch 33/500\n",
            "313/313 [==============================] - 8s 26ms/step - loss: 1.3516 - accuracy: 0.5259 - val_loss: 1.5670 - val_accuracy: 0.4629\n",
            "Epoch 34/500\n",
            "313/313 [==============================] - 8s 27ms/step - loss: 1.3570 - accuracy: 0.5227 - val_loss: 1.6235 - val_accuracy: 0.4542\n",
            "Epoch 35/500\n",
            "313/313 [==============================] - 8s 27ms/step - loss: 1.3602 - accuracy: 0.5221 - val_loss: 1.5578 - val_accuracy: 0.4721\n",
            "Epoch 36/500\n",
            "313/313 [==============================] - 8s 27ms/step - loss: 1.3499 - accuracy: 0.5229 - val_loss: 1.5306 - val_accuracy: 0.4903\n",
            "Epoch 37/500\n",
            "313/313 [==============================] - 8s 26ms/step - loss: 1.3455 - accuracy: 0.5262 - val_loss: 1.5412 - val_accuracy: 0.4819\n",
            "Epoch 38/500\n",
            "313/313 [==============================] - 8s 26ms/step - loss: 1.3501 - accuracy: 0.5233 - val_loss: 1.5744 - val_accuracy: 0.4720\n",
            "Epoch 39/500\n",
            "313/313 [==============================] - 8s 26ms/step - loss: 1.3491 - accuracy: 0.5282 - val_loss: 1.5580 - val_accuracy: 0.4740\n",
            "Epoch 40/500\n",
            "313/313 [==============================] - 8s 26ms/step - loss: 1.3480 - accuracy: 0.5276 - val_loss: 1.5702 - val_accuracy: 0.4829\n",
            "Epoch 41/500\n",
            "313/313 [==============================] - 8s 26ms/step - loss: 1.3601 - accuracy: 0.5219 - val_loss: 1.6672 - val_accuracy: 0.4391\n",
            "Epoch 42/500\n",
            "313/313 [==============================] - 8s 26ms/step - loss: 1.3511 - accuracy: 0.5241 - val_loss: 1.6182 - val_accuracy: 0.4633\n",
            "Epoch 43/500\n",
            "313/313 [==============================] - 8s 27ms/step - loss: 1.3474 - accuracy: 0.5261 - val_loss: 1.6281 - val_accuracy: 0.4529\n",
            "Epoch 44/500\n",
            "313/313 [==============================] - 8s 26ms/step - loss: 1.3484 - accuracy: 0.5283 - val_loss: 1.5605 - val_accuracy: 0.4793\n",
            "Epoch 45/500\n",
            "313/313 [==============================] - 8s 26ms/step - loss: 1.3523 - accuracy: 0.5252 - val_loss: 1.7962 - val_accuracy: 0.4644\n",
            "Epoch 46/500\n",
            "313/313 [==============================] - 8s 26ms/step - loss: 1.3461 - accuracy: 0.5274 - val_loss: 1.5801 - val_accuracy: 0.4752\n",
            "Epoch 47/500\n",
            "313/313 [==============================] - 8s 27ms/step - loss: 1.3377 - accuracy: 0.5297 - val_loss: 1.5808 - val_accuracy: 0.4857\n",
            "Epoch 48/500\n",
            "313/313 [==============================] - 8s 26ms/step - loss: 1.3406 - accuracy: 0.5267 - val_loss: 1.5570 - val_accuracy: 0.4787\n",
            "Epoch 49/500\n",
            "313/313 [==============================] - 8s 27ms/step - loss: 1.3443 - accuracy: 0.5270 - val_loss: 1.6199 - val_accuracy: 0.4708\n",
            "Epoch 50/500\n",
            "313/313 [==============================] - 8s 27ms/step - loss: 1.3445 - accuracy: 0.5255 - val_loss: 1.6653 - val_accuracy: 0.4806\n",
            "Epoch 51/500\n",
            "313/313 [==============================] - 8s 26ms/step - loss: 1.3461 - accuracy: 0.5290 - val_loss: 1.5840 - val_accuracy: 0.4755\n",
            "Epoch 52/500\n",
            "313/313 [==============================] - 8s 26ms/step - loss: 1.3404 - accuracy: 0.5302 - val_loss: 1.6003 - val_accuracy: 0.4912\n",
            "Epoch 53/500\n",
            "313/313 [==============================] - 8s 27ms/step - loss: 1.3418 - accuracy: 0.5305 - val_loss: 1.5762 - val_accuracy: 0.4966\n"
          ]
        }
      ],
      "source": [
        "#chạy model với số lần học là 500 và độ kiên nhẫn là 50\n",
        "model.compile(loss='categorical_crossentropy',optimizer=RMSprop(), metrics=['accuracy'])\n",
        "model.compile(loss='categorical_crossentropy',optimizer=RMSprop(), metrics=['accuracy'])\n",
        "from keras.callbacks import EarlyStopping\n",
        "history = model.fit(x_train,y_train,batch_size=128,epochs=500,verbose=1,\n",
        "                    validation_split=0.2,callbacks=[EarlyStopping(monitor='val_loss',patience=50)])"
      ]
    },
    {
      "cell_type": "code",
      "execution_count": null,
      "metadata": {
        "colab": {
          "base_uri": "https://localhost:8080/",
          "height": 330
        },
        "id": "3K9HKK8H_Fep",
        "outputId": "354f5602-1b5e-4cf8-8610-5dcc102ee4e5"
      },
      "outputs": [
        {
          "output_type": "stream",
          "name": "stdout",
          "text": [
            "Sai số kiểm tra là:  1.519720196723938\n",
            "Độ chính xác kiểm tra là:  0.4943000078201294\n"
          ]
        },
        {
          "output_type": "display_data",
          "data": {
            "text/plain": [
              "<Figure size 432x288 with 1 Axes>"
            ],
            "image/png": "[encoded data removed]"
          },
          "metadata": {
            "needs_background": "light"
          }
        }
      ],
      "source": [
        "#đánh giá chất lượng của mô hình và vẽ lại\n",
        "score = model.evaluate(x_test,y_test,verbose=0)\n",
        "print('Sai số kiểm tra là: ',score[0])\n",
        "print('Độ chính xác kiểm tra là: ',score[1])\n",
        "#vẽ đồ thị\n",
        "plt.plot(history.history['accuracy'])\n",
        "plt.plot(history.history['val_accuracy'])\n",
        "plt.title('model accuracy')\n",
        "plt.ylabel('accuracy')\n",
        "plt.xlabel('epochs')\n",
        "plt.legend(['train','Validation'])\n",
        "plt.show()"
      ]
    },
    {
      "cell_type": "code",
      "execution_count": null,
      "metadata": {
        "colab": {
          "background_save": true
        },
        "id": "tMqz2i5S_Ikg"
      },
      "outputs": [],
      "source": [
        ""
      ]
    }
  ],
  "metadata": {
    "colab": {
      "collapsed_sections": [],
      "name": "Cifar10.ipynb",
      "provenance": [],
      "authorship_tag": "ABX9TyPftyclWXnpti425PGpBFHq",
      "include_colab_link": true
    },
    "kernelspec": {
      "display_name": "Python 3",
      "name": "python3"
    },
    "language_info": {
      "name": "python"
    }
  },
  "nbformat": 4,
  "nbformat_minor": 0
}